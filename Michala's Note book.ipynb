{
 "cells": [
  {
   "cell_type": "markdown",
   "metadata": {},
   "source": [
    "# MKTYP -- Tim's Notebook"
   ]
  },
  {
   "cell_type": "code",
   "execution_count": 5,
   "metadata": {},
   "outputs": [
    {
     "name": "stdout",
     "output_type": "stream",
     "text": [
      "Happy Birthday1\n",
      "Happy Birthday2\n",
      "Happy Birthday3\n",
      "Happy Birthday4\n",
      "Happy Birthday5\n",
      "Happy Birthday6\n",
      "Happy Birthday7\n",
      "Happy Birthday8\n",
      "Happy Birthday9\n",
      "Happy Birthday10\n",
      "Happy Birthday11\n",
      "Happy Birthday12\n",
      "Happy Birthday13\n",
      "Happy Birthday14\n",
      "Happy Birthday15\n",
      "Happy Birthday16\n",
      "Happy Birthday17\n",
      "Happy Birthday18\n",
      "Happy Birthday19\n"
     ]
    }
   ],
   "source": [
    "i=1\n",
    "while (i<=19):\n",
    "    print(\"Happy Birthday\"+str(i))\n",
    "    i=i+1"
   ]
  },
  {
   "cell_type": "code",
   "execution_count": null,
   "metadata": {},
   "outputs": [],
   "source": []
  },
  {
   "cell_type": "code",
   "execution_count": null,
   "metadata": {},
   "outputs": [],
   "source": []
  }
 ],
 "metadata": {
  "kernelspec": {
   "display_name": "Python 3",
   "language": "python",
   "name": "python3"
  },
  "language_info": {
   "codemirror_mode": {
    "name": "ipython",
    "version": 3
   },
   "file_extension": ".py",
   "mimetype": "text/x-python",
   "name": "python",
   "nbconvert_exporter": "python",
   "pygments_lexer": "ipython3",
   "version": "3.7.0"
  }
 },
 "nbformat": 4,
 "nbformat_minor": 2
}
